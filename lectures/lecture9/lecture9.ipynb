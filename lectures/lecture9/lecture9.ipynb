{
 "cells": [
  {
   "cell_type": "markdown",
   "metadata": {},
   "source": [
    "# Lecture 9: Working in Python Volume 3 (APIs and structured data)"
   ]
  },
  {
   "cell_type": "markdown",
   "metadata": {},
   "source": [
    "## List comprehension"
   ]
  },
  {
   "cell_type": "markdown",
   "metadata": {},
   "source": [
    "Understanding \"list comprehension\" is when Python really clicked for me. Let's say we have a list of numbers 1 to 10 and we want to apply a function to just the even numbers. We want to store this as a new list. We could do this as:"
   ]
  },
  {
   "cell_type": "code",
   "execution_count": 1,
   "metadata": {},
   "outputs": [],
   "source": [
    "def f(x):\n",
    "    return x*x"
   ]
  },
  {
   "cell_type": "code",
   "execution_count": 2,
   "metadata": {},
   "outputs": [
    {
     "data": {
      "text/plain": [
       "9"
      ]
     },
     "execution_count": 2,
     "metadata": {},
     "output_type": "execute_result"
    }
   ],
   "source": [
    "f(3)"
   ]
  },
  {
   "cell_type": "code",
   "execution_count": 3,
   "metadata": {},
   "outputs": [],
   "source": [
    "values = list(range(1,11))"
   ]
  },
  {
   "cell_type": "code",
   "execution_count": 4,
   "metadata": {},
   "outputs": [
    {
     "data": {
      "text/plain": [
       "[1, 2, 3, 4, 5, 6, 7, 8, 9, 10]"
      ]
     },
     "execution_count": 4,
     "metadata": {},
     "output_type": "execute_result"
    }
   ],
   "source": [
    "values"
   ]
  },
  {
   "cell_type": "code",
   "execution_count": 5,
   "metadata": {},
   "outputs": [
    {
     "name": "stdout",
     "output_type": "stream",
     "text": [
      "4\n",
      "16\n",
      "36\n",
      "64\n",
      "100\n"
     ]
    }
   ],
   "source": [
    "for value in values:\n",
    "    if value % 2 == 0:\n",
    "        print(f(value))"
   ]
  },
  {
   "cell_type": "code",
   "execution_count": 6,
   "metadata": {},
   "outputs": [],
   "source": [
    "new_values = []\n",
    "for value in values:\n",
    "    if value % 2 == 0:\n",
    "        new_values.append(f(value))"
   ]
  },
  {
   "cell_type": "code",
   "execution_count": 7,
   "metadata": {},
   "outputs": [
    {
     "data": {
      "text/plain": [
       "[4, 16, 36, 64, 100]"
      ]
     },
     "execution_count": 7,
     "metadata": {},
     "output_type": "execute_result"
    }
   ],
   "source": [
    "new_values"
   ]
  },
  {
   "cell_type": "markdown",
   "metadata": {},
   "source": [
    "Instead this can be done with a single list comprehension."
   ]
  },
  {
   "cell_type": "code",
   "execution_count": 8,
   "metadata": {},
   "outputs": [
    {
     "data": {
      "text/plain": [
       "[4, 16, 36, 64, 100]"
      ]
     },
     "execution_count": 8,
     "metadata": {},
     "output_type": "execute_result"
    }
   ],
   "source": [
    "[f(value) for value in values if value % 2 == 0]"
   ]
  },
  {
   "cell_type": "markdown",
   "metadata": {},
   "source": [
    "To step through in this construction:"
   ]
  },
  {
   "cell_type": "code",
   "execution_count": 9,
   "metadata": {},
   "outputs": [
    {
     "data": {
      "text/plain": [
       "[1, 2, 3, 4, 5, 6, 7, 8, 9, 10]"
      ]
     },
     "execution_count": 9,
     "metadata": {},
     "output_type": "execute_result"
    }
   ],
   "source": [
    "[value for value in values]"
   ]
  },
  {
   "cell_type": "code",
   "execution_count": 10,
   "metadata": {},
   "outputs": [
    {
     "data": {
      "text/plain": [
       "[2, 4, 6, 8, 10]"
      ]
     },
     "execution_count": 10,
     "metadata": {},
     "output_type": "execute_result"
    }
   ],
   "source": [
    "[value for value in values if value % 2 == 0]"
   ]
  },
  {
   "cell_type": "code",
   "execution_count": 11,
   "metadata": {},
   "outputs": [
    {
     "data": {
      "text/plain": [
       "[4, 16, 36, 64, 100]"
      ]
     },
     "execution_count": 11,
     "metadata": {},
     "output_type": "execute_result"
    }
   ],
   "source": [
    "[f(value) for value in values if value % 2 == 0]"
   ]
  },
  {
   "cell_type": "markdown",
   "metadata": {},
   "source": [
    "Similarly, we can construct a dictionary comprehension with:"
   ]
  },
  {
   "cell_type": "code",
   "execution_count": 12,
   "metadata": {},
   "outputs": [],
   "source": [
    "mapping = {value: f(value) for value in values if value % 2 == 0}"
   ]
  },
  {
   "cell_type": "code",
   "execution_count": 13,
   "metadata": {},
   "outputs": [
    {
     "data": {
      "text/plain": [
       "{2: 4, 4: 16, 6: 36, 8: 64, 10: 100}"
      ]
     },
     "execution_count": 13,
     "metadata": {},
     "output_type": "execute_result"
    }
   ],
   "source": [
    "mapping"
   ]
  },
  {
   "cell_type": "code",
   "execution_count": 14,
   "metadata": {},
   "outputs": [
    {
     "data": {
      "text/plain": [
       "16"
      ]
     },
     "execution_count": 14,
     "metadata": {},
     "output_type": "execute_result"
    }
   ],
   "source": [
    "mapping[4]"
   ]
  },
  {
   "cell_type": "markdown",
   "metadata": {},
   "source": [
    "## Using APIs"
   ]
  },
  {
   "cell_type": "markdown",
   "metadata": {},
   "source": [
    "Applicable Programming Interfaces (APIs) are central to what makes programming powerful. You don't have to build everything yourself, instead you call make a structured call to an API and it hands you back a structured response. You generally want \"weakly coupled\" components and APIs define the way in which components talk to each other."
   ]
  },
  {
   "cell_type": "markdown",
   "metadata": {},
   "source": [
    "In one example, can use Google Maps to look up a lat/long for a location. For example, we can look up \"Addis Ababa\" and figure out that it's lat/long is \"8.9631702,38.7079335\". But we want a programmatic way to do this. This is what APIs are good for. The GeoPy package gives an interface to communicate with geocoding services like Google's."
   ]
  },
  {
   "cell_type": "markdown",
   "metadata": {},
   "source": [
    "First we need to instead the package from PyPi via pip by running `pip install geopy` from the command line."
   ]
  },
  {
   "cell_type": "code",
   "execution_count": 16,
   "metadata": {},
   "outputs": [],
   "source": [
    "from geopy.geocoders import Nominatim"
   ]
  },
  {
   "cell_type": "code",
   "execution_count": 18,
   "metadata": {},
   "outputs": [],
   "source": [
    "geolocator = Nominatim(user_agent=\"test\")"
   ]
  },
  {
   "cell_type": "code",
   "execution_count": 19,
   "metadata": {},
   "outputs": [],
   "source": [
    "location = geolocator.geocode(\"Addis Ababa\")"
   ]
  },
  {
   "cell_type": "code",
   "execution_count": 20,
   "metadata": {},
   "outputs": [
    {
     "name": "stdout",
     "output_type": "stream",
     "text": [
      "አዲስ አበባ / Addis Ababa, Addis Abeba, 1138, ኢ.ፌ.ዲ.ሪ.\n"
     ]
    }
   ],
   "source": [
    "print(location.address)"
   ]
  },
  {
   "cell_type": "code",
   "execution_count": 21,
   "metadata": {},
   "outputs": [
    {
     "name": "stdout",
     "output_type": "stream",
     "text": [
      "(9.0107934, 38.7612525)\n"
     ]
    }
   ],
   "source": [
    "print((location.latitude, location.longitude))"
   ]
  },
  {
   "cell_type": "code",
   "execution_count": 22,
   "metadata": {},
   "outputs": [
    {
     "name": "stdout",
     "output_type": "stream",
     "text": [
      "{'place_id': '143793', 'licence': 'Data © OpenStreetMap contributors, ODbL 1.0. https://osm.org/copyright', 'osm_type': 'node', 'osm_id': '27565076', 'boundingbox': ['8.8507934', '9.1707934', '38.6012525', '38.9212525'], 'lat': '9.0107934', 'lon': '38.7612525', 'display_name': 'አዲስ አበባ / Addis Ababa, Addis Abeba, 1138, ኢ.ፌ.ዲ.ሪ.', 'class': 'place', 'type': 'city', 'importance': 0.7198268879093099, 'icon': 'https://nominatim.openstreetmap.org/images/mapicons/poi_place_city.p.20.png'}\n"
     ]
    }
   ],
   "source": [
    "print(location.raw)"
   ]
  },
  {
   "cell_type": "markdown",
   "metadata": {},
   "source": [
    "### Using the NCBI Entrez API to download single Genbank record"
   ]
  },
  {
   "cell_type": "markdown",
   "metadata": {},
   "source": [
    "NCBI Entrez API allows searching of Genbank records like so: https://www.ncbi.nlm.nih.gov/nuccore?term=measles%5Btitle%5D%20AND%20viruses%5Bfilter%5D%20AND%20%28%225000%22%5BSLEN%5D%20%3A%20%2220000%22%5BSLEN%5D%29&cmd=DetailsSearch"
   ]
  },
  {
   "cell_type": "markdown",
   "metadata": {},
   "source": [
    "The BioPython implementation of the Entrez API is described here: https://biopython.org/DIST/docs/api/Bio.Entrez-module.html"
   ]
  },
  {
   "cell_type": "markdown",
   "metadata": {},
   "source": [
    "This is looking up accession `LC420351`: https://www.ncbi.nlm.nih.gov/nuccore/LC420351"
   ]
  },
  {
   "cell_type": "code",
   "execution_count": 23,
   "metadata": {},
   "outputs": [],
   "source": [
    "from Bio import Entrez"
   ]
  },
  {
   "cell_type": "code",
   "execution_count": 24,
   "metadata": {},
   "outputs": [],
   "source": [
    "Entrez.email = \"tbedford@fredhutch.org\""
   ]
  },
  {
   "cell_type": "code",
   "execution_count": 25,
   "metadata": {},
   "outputs": [],
   "source": [
    "handle = Entrez.efetch(db=\"nucleotide\", id=\"LC420351\", rettype=\"gb\", retmode=\"text\")"
   ]
  },
  {
   "cell_type": "code",
   "execution_count": 26,
   "metadata": {},
   "outputs": [],
   "source": [
    "from Bio import GenBank"
   ]
  },
  {
   "cell_type": "code",
   "execution_count": 27,
   "metadata": {},
   "outputs": [],
   "source": [
    "record = GenBank.read(handle)"
   ]
  },
  {
   "cell_type": "code",
   "execution_count": 28,
   "metadata": {},
   "outputs": [
    {
     "data": {
      "text/plain": [
       "<Bio.GenBank.Record.Record at 0x111c144e0>"
      ]
     },
     "execution_count": 28,
     "metadata": {},
     "output_type": "execute_result"
    }
   ],
   "source": [
    "record"
   ]
  },
  {
   "cell_type": "code",
   "execution_count": 29,
   "metadata": {},
   "outputs": [
    {
     "data": {
      "text/plain": [
       "['BASE_FEATURE_FORMAT',\n",
       " 'BASE_FORMAT',\n",
       " 'GB_BASE_INDENT',\n",
       " 'GB_FEATURE_INDENT',\n",
       " 'GB_FEATURE_INTERNAL_INDENT',\n",
       " 'GB_INTERNAL_INDENT',\n",
       " 'GB_LINE_LENGTH',\n",
       " 'GB_OTHER_INTERNAL_INDENT',\n",
       " 'GB_SEQUENCE_INDENT',\n",
       " 'INTERNAL_FEATURE_FORMAT',\n",
       " 'INTERNAL_FORMAT',\n",
       " 'OTHER_INTERNAL_FORMAT',\n",
       " 'SEQUENCE_FORMAT',\n",
       " '__class__',\n",
       " '__delattr__',\n",
       " '__dict__',\n",
       " '__dir__',\n",
       " '__doc__',\n",
       " '__eq__',\n",
       " '__format__',\n",
       " '__ge__',\n",
       " '__getattribute__',\n",
       " '__gt__',\n",
       " '__hash__',\n",
       " '__init__',\n",
       " '__init_subclass__',\n",
       " '__le__',\n",
       " '__lt__',\n",
       " '__module__',\n",
       " '__ne__',\n",
       " '__new__',\n",
       " '__reduce__',\n",
       " '__reduce_ex__',\n",
       " '__repr__',\n",
       " '__setattr__',\n",
       " '__sizeof__',\n",
       " '__str__',\n",
       " '__subclasshook__',\n",
       " '__weakref__',\n",
       " '_accession_line',\n",
       " '_base_count_line',\n",
       " '_comment_line',\n",
       " '_contig_line',\n",
       " '_db_source_line',\n",
       " '_dblink_line',\n",
       " '_definition_line',\n",
       " '_features_line',\n",
       " '_keywords_line',\n",
       " '_locus_line',\n",
       " '_nid_line',\n",
       " '_organism_line',\n",
       " '_origin_line',\n",
       " '_pid_line',\n",
       " '_project_line',\n",
       " '_segment_line',\n",
       " '_sequence_line',\n",
       " '_source_line',\n",
       " '_version_line',\n",
       " '_wgs_line',\n",
       " '_wgs_scafld_line',\n",
       " 'accession',\n",
       " 'base_counts',\n",
       " 'comment',\n",
       " 'contig',\n",
       " 'data_file_division',\n",
       " 'date',\n",
       " 'db_source',\n",
       " 'dblinks',\n",
       " 'definition',\n",
       " 'features',\n",
       " 'gi',\n",
       " 'keywords',\n",
       " 'locus',\n",
       " 'nid',\n",
       " 'organism',\n",
       " 'origin',\n",
       " 'pid',\n",
       " 'primary',\n",
       " 'projects',\n",
       " 'references',\n",
       " 'residue_type',\n",
       " 'segment',\n",
       " 'sequence',\n",
       " 'size',\n",
       " 'source',\n",
       " 'taxonomy',\n",
       " 'version',\n",
       " 'wgs',\n",
       " 'wgs_scafld']"
      ]
     },
     "execution_count": 29,
     "metadata": {},
     "output_type": "execute_result"
    }
   ],
   "source": [
    "dir(record)"
   ]
  },
  {
   "cell_type": "code",
   "execution_count": 30,
   "metadata": {},
   "outputs": [
    {
     "data": {
      "text/plain": [
       "['LC420351']"
      ]
     },
     "execution_count": 30,
     "metadata": {},
     "output_type": "execute_result"
    }
   ],
   "source": [
    "record.accession"
   ]
  },
  {
   "cell_type": "code",
   "execution_count": 31,
   "metadata": {},
   "outputs": [
    {
     "data": {
      "text/plain": [
       "'Measles morbillivirus'"
      ]
     },
     "execution_count": 31,
     "metadata": {},
     "output_type": "execute_result"
    }
   ],
   "source": [
    "record.source"
   ]
  },
  {
   "cell_type": "code",
   "execution_count": 43,
   "metadata": {},
   "outputs": [
    {
     "data": {
      "text/plain": [
       "'ACCAAACAAAGTTGGGTAAGGATAGATCAATCAATGATCATATTCTAGTACACTTAGGATTCAAGATCCTATTATCAGGGACAAGAGCAGGATTAGGGATATCCGAGGGCGCGCCATGGTGAGCAAGGGCGAGGAGCTGTTCACCGGGGTGGTGCCCATCCTGGTCGAGCTGGACGGCGACGTAAACGGCCACAAGTTCAGCGTGTCCGGCGAGGGCGAGGGCGATGCCACCTACGGCAAGCTGACCCTGAAGTTCATCTGCACCACCGGCAAGCTGCCCGTGCCCTGGCCCACCCTCGTGACCACCCTGACCTACGGCGTGCAGTGCTTCAGCCGCTACCCCGACCACATGAAGCAGCACGACTTCTTCAAGTCCGCCATGCCCGAAGGCTACGTCCAGGAGCGCACCATCTTCTTCAAGGACGACGGCAACTACAAGACCCGCGCCGAGGTGAAGTTCGAGGGCGACACCCTGGTGAACCGCATCGAGCTGAAGGGCA'"
      ]
     },
     "execution_count": 43,
     "metadata": {},
     "output_type": "execute_result"
    }
   ],
   "source": [
    "record.sequence[0:500]"
   ]
  },
  {
   "cell_type": "code",
   "execution_count": 62,
   "metadata": {},
   "outputs": [
    {
     "data": {
      "text/plain": [
       "'/organism='"
      ]
     },
     "execution_count": 62,
     "metadata": {},
     "output_type": "execute_result"
    }
   ],
   "source": [
    "record.features[0].qualifiers[0].key"
   ]
  },
  {
   "cell_type": "code",
   "execution_count": 63,
   "metadata": {},
   "outputs": [
    {
     "data": {
      "text/plain": [
       "'\"Measles morbillivirus\"'"
      ]
     },
     "execution_count": 63,
     "metadata": {},
     "output_type": "execute_result"
    }
   ],
   "source": [
    "record.features[0].qualifiers[0].value"
   ]
  },
  {
   "cell_type": "code",
   "execution_count": 73,
   "metadata": {},
   "outputs": [
    {
     "name": "stdout",
     "output_type": "stream",
     "text": [
      "/organism= \"Measles morbillivirus\"\n",
      "/mol_type= \"viral cRNA\"\n",
      "/strain= \"IC323-EGFP\"\n",
      "/db_xref= \"taxon:11234\"\n",
      "/country= \"Japan\"\n",
      "/note= \"derived from Measles virus IC-B strain\"\n"
     ]
    }
   ],
   "source": [
    "for qualifier in record.features[0].qualifiers:\n",
    "    print(qualifier.key, qualifier.value)"
   ]
  },
  {
   "cell_type": "code",
   "execution_count": 81,
   "metadata": {},
   "outputs": [
    {
     "name": "stdout",
     "output_type": "stream",
     "text": [
      "Japan\n"
     ]
    }
   ],
   "source": [
    "for qualifier in record.features[0].qualifiers:\n",
    "    if qualifier.key == \"/country=\":\n",
    "        print(qualifier.value.replace(\"\\\"\", \"\"))"
   ]
  },
  {
   "cell_type": "code",
   "execution_count": 86,
   "metadata": {},
   "outputs": [],
   "source": [
    "def get_country_for_record(record):\n",
    "    for qualifier in record.features[0].qualifiers:\n",
    "        if qualifier.key == \"/country=\":\n",
    "            return(qualifier.value.replace(\"\\\"\", \"\"))"
   ]
  },
  {
   "cell_type": "code",
   "execution_count": 87,
   "metadata": {},
   "outputs": [
    {
     "data": {
      "text/plain": [
       "'Japan'"
      ]
     },
     "execution_count": 87,
     "metadata": {},
     "output_type": "execute_result"
    }
   ],
   "source": [
    "get_country_for_record(record)"
   ]
  },
  {
   "cell_type": "code",
   "execution_count": 94,
   "metadata": {},
   "outputs": [],
   "source": [
    "def get_record_for_accession(accession):\n",
    "    handle = Entrez.efetch(db=\"nucleotide\", id=accession, rettype=\"gb\", retmode=\"text\")\n",
    "    record = GenBank.read(handle)\n",
    "    return(record)"
   ]
  },
  {
   "cell_type": "code",
   "execution_count": 96,
   "metadata": {},
   "outputs": [
    {
     "data": {
      "text/plain": [
       "<Bio.GenBank.Record.Record at 0x111de5400>"
      ]
     },
     "execution_count": 96,
     "metadata": {},
     "output_type": "execute_result"
    }
   ],
   "source": [
    "get_record_for_accession(\"LC420351\")"
   ]
  },
  {
   "cell_type": "code",
   "execution_count": 97,
   "metadata": {},
   "outputs": [
    {
     "data": {
      "text/plain": [
       "'Japan'"
      ]
     },
     "execution_count": 97,
     "metadata": {},
     "output_type": "execute_result"
    }
   ],
   "source": [
    "get_country_for_record(get_record_for_accession(\"LC420351\"))"
   ]
  },
  {
   "cell_type": "markdown",
   "metadata": {},
   "source": [
    "### Using the NCBI Entrez API to search for Genbank records"
   ]
  },
  {
   "cell_type": "code",
   "execution_count": 33,
   "metadata": {},
   "outputs": [],
   "source": [
    "handle = Entrez.esearch(db=\"nucleotide\",\n",
    "            retmax=10,\n",
    "            term=\"measles[title] AND viruses[filter]\",\n",
    "            idtype=\"acc\")"
   ]
  },
  {
   "cell_type": "code",
   "execution_count": 34,
   "metadata": {},
   "outputs": [
    {
     "data": {
      "text/plain": [
       "<_io.TextIOWrapper encoding='utf-8'>"
      ]
     },
     "execution_count": 34,
     "metadata": {},
     "output_type": "execute_result"
    }
   ],
   "source": [
    "handle"
   ]
  },
  {
   "cell_type": "code",
   "execution_count": 35,
   "metadata": {},
   "outputs": [],
   "source": [
    "records = Entrez.read(handle)"
   ]
  },
  {
   "cell_type": "code",
   "execution_count": 36,
   "metadata": {},
   "outputs": [
    {
     "data": {
      "text/plain": [
       "['__class__',\n",
       " '__contains__',\n",
       " '__delattr__',\n",
       " '__delitem__',\n",
       " '__dict__',\n",
       " '__dir__',\n",
       " '__doc__',\n",
       " '__eq__',\n",
       " '__format__',\n",
       " '__ge__',\n",
       " '__getattribute__',\n",
       " '__getitem__',\n",
       " '__gt__',\n",
       " '__hash__',\n",
       " '__init__',\n",
       " '__init_subclass__',\n",
       " '__iter__',\n",
       " '__le__',\n",
       " '__len__',\n",
       " '__lt__',\n",
       " '__module__',\n",
       " '__ne__',\n",
       " '__new__',\n",
       " '__reduce__',\n",
       " '__reduce_ex__',\n",
       " '__repr__',\n",
       " '__setattr__',\n",
       " '__setitem__',\n",
       " '__sizeof__',\n",
       " '__str__',\n",
       " '__subclasshook__',\n",
       " '__weakref__',\n",
       " 'attributes',\n",
       " 'clear',\n",
       " 'copy',\n",
       " 'fromkeys',\n",
       " 'get',\n",
       " 'items',\n",
       " 'keys',\n",
       " 'pop',\n",
       " 'popitem',\n",
       " 'setdefault',\n",
       " 'tag',\n",
       " 'update',\n",
       " 'values']"
      ]
     },
     "execution_count": 36,
     "metadata": {},
     "output_type": "execute_result"
    }
   ],
   "source": [
    "dir(records)"
   ]
  },
  {
   "cell_type": "code",
   "execution_count": 37,
   "metadata": {},
   "outputs": [
    {
     "data": {
      "text/plain": [
       "'15613'"
      ]
     },
     "execution_count": 37,
     "metadata": {},
     "output_type": "execute_result"
    }
   ],
   "source": [
    "records[\"Count\"]"
   ]
  },
  {
   "cell_type": "code",
   "execution_count": 38,
   "metadata": {},
   "outputs": [],
   "source": [
    "handle = Entrez.esearch(db=\"nucleotide\", retmax=500,\n",
    "            term=\"measles[title] AND viruses[filter] AND (5000[SLEN] : 20000[SLEN])\", \n",
    "            idtype=\"acc\")"
   ]
  },
  {
   "cell_type": "code",
   "execution_count": 39,
   "metadata": {},
   "outputs": [],
   "source": [
    "records = Entrez.read(handle)"
   ]
  },
  {
   "cell_type": "code",
   "execution_count": 40,
   "metadata": {},
   "outputs": [
    {
     "data": {
      "text/plain": [
       "'207'"
      ]
     },
     "execution_count": 40,
     "metadata": {},
     "output_type": "execute_result"
    }
   ],
   "source": [
    "records[\"Count\"]"
   ]
  },
  {
   "cell_type": "code",
   "execution_count": 101,
   "metadata": {},
   "outputs": [],
   "source": [
    "accessions = records[\"IdList\"]"
   ]
  },
  {
   "cell_type": "code",
   "execution_count": 102,
   "metadata": {},
   "outputs": [
    {
     "data": {
      "text/plain": [
       "207"
      ]
     },
     "execution_count": 102,
     "metadata": {},
     "output_type": "execute_result"
    }
   ],
   "source": [
    "len(accessions)"
   ]
  },
  {
   "cell_type": "code",
   "execution_count": 189,
   "metadata": {},
   "outputs": [],
   "source": [
    "countries = [get_country_for_record(get_record_for_accession(accession)) for accession in accessions[0:50]]"
   ]
  },
  {
   "cell_type": "code",
   "execution_count": 190,
   "metadata": {},
   "outputs": [
    {
     "data": {
      "text/plain": [
       "['Japan',\n",
       " None,\n",
       " 'Canada: Alberta, Calgary',\n",
       " 'Australia: Brisbane',\n",
       " 'Italy',\n",
       " 'China',\n",
       " None,\n",
       " 'Netherlands',\n",
       " 'Netherlands',\n",
       " 'Netherlands',\n",
       " 'Netherlands',\n",
       " 'Sudan',\n",
       " 'Netherlands',\n",
       " 'Japan',\n",
       " 'France',\n",
       " 'USA',\n",
       " 'USA',\n",
       " 'USA',\n",
       " 'USA',\n",
       " 'USA',\n",
       " 'USA',\n",
       " 'USA',\n",
       " None,\n",
       " 'China',\n",
       " 'France',\n",
       " None,\n",
       " 'Viet Nam',\n",
       " 'Viet Nam',\n",
       " 'China',\n",
       " 'China',\n",
       " 'China',\n",
       " 'China',\n",
       " 'China',\n",
       " 'China',\n",
       " 'China',\n",
       " 'China',\n",
       " 'China',\n",
       " None,\n",
       " 'United Kingdom',\n",
       " 'United Kingdom',\n",
       " 'United Kingdom',\n",
       " 'United Kingdom',\n",
       " 'United Kingdom',\n",
       " 'United Kingdom',\n",
       " 'United Kingdom',\n",
       " 'United Kingdom',\n",
       " 'United Kingdom',\n",
       " 'United Kingdom',\n",
       " 'United Kingdom',\n",
       " 'United Kingdom']"
      ]
     },
     "execution_count": 190,
     "metadata": {},
     "output_type": "execute_result"
    }
   ],
   "source": [
    "countries"
   ]
  },
  {
   "cell_type": "code",
   "execution_count": 191,
   "metadata": {},
   "outputs": [],
   "source": [
    "countries = [country for country in countries if country != None]"
   ]
  },
  {
   "cell_type": "code",
   "execution_count": 192,
   "metadata": {},
   "outputs": [
    {
     "data": {
      "text/plain": [
       "['Japan',\n",
       " 'Canada: Alberta, Calgary',\n",
       " 'Australia: Brisbane',\n",
       " 'Italy',\n",
       " 'China',\n",
       " 'Netherlands',\n",
       " 'Netherlands',\n",
       " 'Netherlands',\n",
       " 'Netherlands',\n",
       " 'Sudan',\n",
       " 'Netherlands',\n",
       " 'Japan',\n",
       " 'France',\n",
       " 'USA',\n",
       " 'USA',\n",
       " 'USA',\n",
       " 'USA',\n",
       " 'USA',\n",
       " 'USA',\n",
       " 'USA',\n",
       " 'China',\n",
       " 'France',\n",
       " 'Viet Nam',\n",
       " 'Viet Nam',\n",
       " 'China',\n",
       " 'China',\n",
       " 'China',\n",
       " 'China',\n",
       " 'China',\n",
       " 'China',\n",
       " 'China',\n",
       " 'China',\n",
       " 'China',\n",
       " 'United Kingdom',\n",
       " 'United Kingdom',\n",
       " 'United Kingdom',\n",
       " 'United Kingdom',\n",
       " 'United Kingdom',\n",
       " 'United Kingdom',\n",
       " 'United Kingdom',\n",
       " 'United Kingdom',\n",
       " 'United Kingdom',\n",
       " 'United Kingdom',\n",
       " 'United Kingdom',\n",
       " 'United Kingdom']"
      ]
     },
     "execution_count": 192,
     "metadata": {},
     "output_type": "execute_result"
    }
   ],
   "source": [
    "countries"
   ]
  },
  {
   "cell_type": "code",
   "execution_count": 193,
   "metadata": {},
   "outputs": [],
   "source": [
    "countries = list(set(countries))"
   ]
  },
  {
   "cell_type": "code",
   "execution_count": 194,
   "metadata": {},
   "outputs": [
    {
     "data": {
      "text/plain": [
       "['USA',\n",
       " 'Canada: Alberta, Calgary',\n",
       " 'Italy',\n",
       " 'China',\n",
       " 'Viet Nam',\n",
       " 'Australia: Brisbane',\n",
       " 'Sudan',\n",
       " 'United Kingdom',\n",
       " 'France',\n",
       " 'Netherlands',\n",
       " 'Japan']"
      ]
     },
     "execution_count": 194,
     "metadata": {},
     "output_type": "execute_result"
    }
   ],
   "source": [
    "countries"
   ]
  },
  {
   "cell_type": "markdown",
   "metadata": {},
   "source": [
    "## Geocoding from this list of countries"
   ]
  },
  {
   "cell_type": "code",
   "execution_count": 195,
   "metadata": {},
   "outputs": [],
   "source": [
    "locations = [geolocator.geocode(country) for country in countries]"
   ]
  },
  {
   "cell_type": "code",
   "execution_count": 197,
   "metadata": {},
   "outputs": [
    {
     "data": {
      "text/plain": [
       "[Location(USA, (39.7837304, -100.4458825, 0.0)),\n",
       " Location(Calgary, Alberta, Canada, (51.02532675, -114.049868485806, 0.0)),\n",
       " Location(Italia, (42.6384261, 12.674297, 0.0)),\n",
       " Location(中国, (35.000074, 104.999927, 0.0)),\n",
       " Location(Việt Nam, (13.2904027, 108.4265113, 0.0)),\n",
       " Location(Brisbane, QLD, 4000, Australia, (-27.4689682, 153.0234991, 0.0)),\n",
       " Location(السودان, (14.5844444, 29.4917691, 0.0)),\n",
       " Location(UK, (54.7023545, -3.2765753, 0.0)),\n",
       " Location(France métropolitaine, France, (46.603354, 1.8883335, 0.0)),\n",
       " Location(Nederland, (52.2379891, 5.53460738161551, 0.0)),\n",
       " Location(日本, (36.5748441, 139.2394179, 0.0))]"
      ]
     },
     "execution_count": 197,
     "metadata": {},
     "output_type": "execute_result"
    }
   ],
   "source": [
    "locations"
   ]
  },
  {
   "cell_type": "code",
   "execution_count": 198,
   "metadata": {},
   "outputs": [
    {
     "data": {
      "text/plain": [
       "['__class__',\n",
       " '__delattr__',\n",
       " '__dir__',\n",
       " '__doc__',\n",
       " '__eq__',\n",
       " '__format__',\n",
       " '__ge__',\n",
       " '__getattribute__',\n",
       " '__getitem__',\n",
       " '__getstate__',\n",
       " '__gt__',\n",
       " '__hash__',\n",
       " '__init__',\n",
       " '__init_subclass__',\n",
       " '__iter__',\n",
       " '__le__',\n",
       " '__len__',\n",
       " '__lt__',\n",
       " '__module__',\n",
       " '__ne__',\n",
       " '__new__',\n",
       " '__reduce__',\n",
       " '__reduce_ex__',\n",
       " '__repr__',\n",
       " '__setattr__',\n",
       " '__setstate__',\n",
       " '__sizeof__',\n",
       " '__slots__',\n",
       " '__str__',\n",
       " '__subclasshook__',\n",
       " '__unicode__',\n",
       " '_address',\n",
       " '_point',\n",
       " '_raw',\n",
       " '_tuple',\n",
       " 'address',\n",
       " 'altitude',\n",
       " 'latitude',\n",
       " 'longitude',\n",
       " 'point',\n",
       " 'raw']"
      ]
     },
     "execution_count": 198,
     "metadata": {},
     "output_type": "execute_result"
    }
   ],
   "source": [
    "dir(locations[0])"
   ]
  },
  {
   "cell_type": "code",
   "execution_count": 199,
   "metadata": {},
   "outputs": [
    {
     "data": {
      "text/plain": [
       "'USA'"
      ]
     },
     "execution_count": 199,
     "metadata": {},
     "output_type": "execute_result"
    }
   ],
   "source": [
    "locations[0].address"
   ]
  },
  {
   "cell_type": "markdown",
   "metadata": {},
   "source": [
    "Can use GeoJSON to display geographic data. Use http://geojson.io."
   ]
  },
  {
   "cell_type": "markdown",
   "metadata": {},
   "source": [
    "Example GeoJSON file\n",
    "```\n",
    "{\n",
    "    \"type\": \"FeatureCollection\",\n",
    "    \"features\": [{\n",
    "        \"type\": \"Feature\",\n",
    "        \"geometry\": {\n",
    "            \"type\": \"Point\",\n",
    "            \"coordinates\": [-77.03238901390978, 38.913188059745586]\n",
    "        },\n",
    "        \"properties\": {\n",
    "            \"title\": \"Location A\"\n",
    "        }\n",
    "    }, {\n",
    "        \"type\": \"Feature\",\n",
    "        \"geometry\": {\n",
    "            \"type\": \"Point\",\n",
    "            \"coordinates\": [-122.414, 37.776]\n",
    "        },\n",
    "        \"properties\": {\n",
    "            \"title\": \"Location B\"\n",
    "        }\n",
    "    }]\n",
    "}\n",
    "```"
   ]
  },
  {
   "cell_type": "code",
   "execution_count": 200,
   "metadata": {},
   "outputs": [],
   "source": [
    "features = []\n",
    "for location in locations:\n",
    "    json_element = {\n",
    "        \"type\": \"Feature\",\n",
    "        \"geometry\": {\n",
    "            \"type\": \"Point\",\n",
    "            \"coordinates\": [location.longitude, location.latitude]\n",
    "        },\n",
    "        \"properties\": {\n",
    "            \"title\": location.address\n",
    "        }\n",
    "    }\n",
    "    features.append(json_element)"
   ]
  },
  {
   "cell_type": "code",
   "execution_count": 201,
   "metadata": {},
   "outputs": [
    {
     "data": {
      "text/plain": [
       "[{'type': 'Feature',\n",
       "  'geometry': {'type': 'Point', 'coordinates': [-100.4458825, 39.7837304]},\n",
       "  'properties': {'title': 'USA'}},\n",
       " {'type': 'Feature',\n",
       "  'geometry': {'type': 'Point',\n",
       "   'coordinates': [-114.049868485806, 51.02532675]},\n",
       "  'properties': {'title': 'Calgary, Alberta, Canada'}},\n",
       " {'type': 'Feature',\n",
       "  'geometry': {'type': 'Point', 'coordinates': [12.674297, 42.6384261]},\n",
       "  'properties': {'title': 'Italia'}},\n",
       " {'type': 'Feature',\n",
       "  'geometry': {'type': 'Point', 'coordinates': [104.999927, 35.000074]},\n",
       "  'properties': {'title': '中国'}},\n",
       " {'type': 'Feature',\n",
       "  'geometry': {'type': 'Point', 'coordinates': [108.4265113, 13.2904027]},\n",
       "  'properties': {'title': 'Việt Nam'}},\n",
       " {'type': 'Feature',\n",
       "  'geometry': {'type': 'Point', 'coordinates': [153.0234991, -27.4689682]},\n",
       "  'properties': {'title': 'Brisbane, QLD, 4000, Australia'}},\n",
       " {'type': 'Feature',\n",
       "  'geometry': {'type': 'Point', 'coordinates': [29.4917691, 14.5844444]},\n",
       "  'properties': {'title': 'السودان'}},\n",
       " {'type': 'Feature',\n",
       "  'geometry': {'type': 'Point', 'coordinates': [-3.2765753, 54.7023545]},\n",
       "  'properties': {'title': 'UK'}},\n",
       " {'type': 'Feature',\n",
       "  'geometry': {'type': 'Point', 'coordinates': [1.8883335, 46.603354]},\n",
       "  'properties': {'title': 'France métropolitaine, France'}},\n",
       " {'type': 'Feature',\n",
       "  'geometry': {'type': 'Point', 'coordinates': [5.53460738161551, 52.2379891]},\n",
       "  'properties': {'title': 'Nederland'}},\n",
       " {'type': 'Feature',\n",
       "  'geometry': {'type': 'Point', 'coordinates': [139.2394179, 36.5748441]},\n",
       "  'properties': {'title': '日本'}}]"
      ]
     },
     "execution_count": 201,
     "metadata": {},
     "output_type": "execute_result"
    }
   ],
   "source": [
    "features"
   ]
  },
  {
   "cell_type": "code",
   "execution_count": 202,
   "metadata": {},
   "outputs": [],
   "source": [
    "geojson = {\n",
    "    \"type\": \"FeatureCollection\",\n",
    "    \"features\": features\n",
    "}"
   ]
  },
  {
   "cell_type": "code",
   "execution_count": 203,
   "metadata": {},
   "outputs": [],
   "source": [
    "import json\n",
    "with open('geo.json', 'w') as outfile:\n",
    "    json.dump(geojson, outfile, indent=1)"
   ]
  },
  {
   "cell_type": "code",
   "execution_count": null,
   "metadata": {},
   "outputs": [],
   "source": []
  }
 ],
 "metadata": {
  "kernelspec": {
   "display_name": "Python 3",
   "language": "python",
   "name": "python3"
  },
  "language_info": {
   "codemirror_mode": {
    "name": "ipython",
    "version": 3
   },
   "file_extension": ".py",
   "mimetype": "text/x-python",
   "name": "python",
   "nbconvert_exporter": "python",
   "pygments_lexer": "ipython3",
   "version": "3.6.5"
  }
 },
 "nbformat": 4,
 "nbformat_minor": 2
}
