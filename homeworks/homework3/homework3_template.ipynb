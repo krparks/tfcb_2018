{
 "cells": [
  {
   "cell_type": "markdown",
   "metadata": {},
   "source": [
    "# HOMEWORK 3 TEMPLATE\n",
    "\n",
    "Make a copy of this notebook and fill it in where indicated to complete the assignment. The first two sections provide a little more background on `python` language features that may come in handy. "
   ]
  },
  {
   "cell_type": "markdown",
   "metadata": {},
   "source": [
    "## The keywork `in`"
   ]
  },
  {
   "cell_type": "code",
   "execution_count": 1,
   "metadata": {},
   "outputs": [
    {
     "name": "stdout",
     "output_type": "stream",
     "text": [
      "looping... 0\n",
      "looping... 1\n",
      "looping... 2\n",
      "looping... 3\n",
      "looping... 4\n",
      "\n",
      "3 in [1, 3, 5, 7, 9] is True\n",
      "4 in [1, 3, 5, 7, 9] is False\n",
      "6 not in [1, 3, 5, 7, 9] is True\n",
      "not (6 in l) [1, 3, 5, 7, 9] is True\n",
      "\n",
      "x in alphabet is False\n",
      "\n",
      "0 is not in l\n",
      "1 is in l\n",
      "2 is not in l\n",
      "3 is in l\n",
      "4 is not in l\n",
      "5 is in l\n",
      "6 is not in l\n",
      "7 is in l\n",
      "8 is not in l\n",
      "9 is in l\n"
     ]
    }
   ],
   "source": [
    "# As we've already seen, 'in' appears in for loops\n",
    "\n",
    "for i in range(5):\n",
    "    print('looping...',i)\n",
    "\n",
    "print() # make a blank line\n",
    "    \n",
    "# but 'in' also lets us test if an element belongs to a string or list or dictionary\n",
    "\n",
    "l = [1,3,5,7,9]\n",
    "\n",
    "print('3 in', l, 'is', 3 in l)\n",
    "print('4 in', l, 'is', 4 in l)\n",
    "print('6 not in', l, 'is', 6 not in l) ## NOTE: we can use 'not in'\n",
    "print('not (6 in l)', l, 'is', not(6 in l) ) ## this is the same\n",
    "\n",
    "print() # make a blank line\n",
    "\n",
    "word = 'alphabet'\n",
    "letter = 'x'\n",
    "print(letter,'in',word,'is',letter in word )\n",
    "\n",
    "print() # make a blank line\n",
    "\n",
    "# and we can use it in if statements\n",
    "for num in range(10):\n",
    "    if num in l:\n",
    "        print(num,'is in l')\n",
    "    else:\n",
    "        print(num,'is not in l')"
   ]
  },
  {
   "cell_type": "markdown",
   "metadata": {},
   "source": [
    "## Quick intro to python dictionaries\n",
    "(see also the lecture 7 jupyter notebook)"
   ]
  },
  {
   "cell_type": "code",
   "execution_count": 2,
   "metadata": {},
   "outputs": [
    {
     "name": "stdout",
     "output_type": "stream",
     "text": [
      "5\n",
      "the key: dog maps to 3\n",
      "the key: horse maps to 5\n",
      "the key: elephant maps to 8\n",
      "the key: 11 maps to aardvark\n",
      "the key: (1, 'tfcb') maps to [1, 2, 3, 4]\n",
      "\n",
      "the letter t appeared 2 times\n",
      "the letter h appeared 2 times\n",
      "the letter e appeared 3 times\n",
      "the letter   appeared 8 times\n",
      "the letter q appeared 1 times\n",
      "the letter u appeared 2 times\n",
      "the letter i appeared 1 times\n",
      "the letter c appeared 1 times\n",
      "the letter k appeared 1 times\n",
      "the letter b appeared 1 times\n",
      "the letter r appeared 2 times\n",
      "the letter o appeared 4 times\n",
      "the letter w appeared 1 times\n",
      "the letter n appeared 1 times\n",
      "the letter f appeared 1 times\n",
      "the letter x appeared 1 times\n",
      "the letter j appeared 1 times\n",
      "the letter m appeared 1 times\n",
      "the letter p appeared 1 times\n",
      "the letter s appeared 1 times\n",
      "the letter v appeared 1 times\n",
      "the letter l appeared 1 times\n",
      "the letter a appeared 1 times\n",
      "the letter z appeared 1 times\n",
      "the letter y appeared 1 times\n",
      "the letter d appeared 1 times\n",
      "the letter g appeared 1 times\n"
     ]
    }
   ],
   "source": [
    "# create an empty dictionary using the curly braces {}\n",
    "D = {}\n",
    "\n",
    "# assign using square braces []\n",
    "D['dog'] = 3\n",
    "D['horse'] = 5\n",
    "D['elephant'] = 8\n",
    "D[11] = 'aardvark' #keys can be different types\n",
    "D[(1,'tfcb')] = [1,2,3,4] #values can be anything; keys have to be \"immutable\"\n",
    "\n",
    "# access the value using square braces also\n",
    "print(D['horse'])\n",
    "\n",
    "# keys can only be immutable types like int,float,string,tuple, so this would give an error\n",
    "l = [1,2,3]\n",
    "#D[ l ] = 14\n",
    "\n",
    "# loop over dictionaries using for\n",
    "for key in D:\n",
    "    print('the key:',key,'maps to',D[key])\n",
    "    \n",
    "print()\n",
    "\n",
    "    \n",
    "# dictionaries are useful for counting things, like how often each letter occurs in the following string\n",
    "s = 'the quick brown fox jumps over the lazy dog'\n",
    "\n",
    "letter_counts = {}\n",
    "for a in s:\n",
    "    if a not in letter_counts: ## NOTE: here we are using 'not in' to check if a is in the dictionary yet\n",
    "        letter_counts[a] = 0\n",
    "    letter_counts[a] += 1\n",
    "\n",
    "# now show the letter counts; the order of looping through the keys of a dictionary is not guaranteed,\n",
    "for a in letter_counts:\n",
    "    print('the letter',a,'appeared',letter_counts[a],'times')\n",
    "    \n",
    "# check if we hit all the lowercase letters\n",
    "\n",
    "alphabet = 'abcdefghijklmnopqrstuvwxyz'\n",
    "assert len(alphabet) == 26 # make sure they're all there\n",
    "for a in alphabet:\n",
    "    # if we try to access the value for a key that isn't in the dictionary, we get an error\n",
    "    # dictionaries have a method called get() which lets us pass a default value for missing keys,\n",
    "    # so we could replace the next four lines with \"count = letter_counts.get(a,0)\"\n",
    "    if a in letter_counts:\n",
    "        count = letter_counts[a]\n",
    "    else:\n",
    "        count = 0\n",
    "    assert count>0\n",
    "\n",
    "\n"
   ]
  },
  {
   "cell_type": "markdown",
   "metadata": {},
   "source": [
    "# Patterns in seattle precipitation (100 points)\n",
    "To answer this question you will need to read and analyze data on total daily precipitation from NOAA. The data is contained in the csv file `tfcb_2018/homeworks/homework3/data/seattle_rainfall.csv` which should be accessible in the `data/` subdirectory of the folder where this notebook is located.\n",
    "\n",
    "The challenge is to answer the following questions about the Seattle climate:\n",
    "\n",
    "* Q1. (15 points) How much total precipitation fell in each of the 10 years in the dataset?\n",
    "\n",
    "* Q2. (10 points) How much total precipitation fell in each of the 12 calendar months over the course of the dataset?\n",
    "\n",
    "* Q3. (25 points) Which of the 7 days of the week had the most precipitation over this period? Are weekends any rainier than weekdays (it always seems that way...)? To do this, compute the mean daily rainfall for the Mondays, the Tuesdays, the Wednesdays, and so on. \n",
    "\n",
    "* Q4. (15 points) What was the longest dry stretch during this period?\n",
    "\n",
    "* Q5. (10 points) What was the longest wet stretch (continuous days with >0 precipitation)?\n",
    "\n",
    "* Q6. (25 points) Considering just the days with nonzero precipitation, what was the max/median/min precipitation value?\n",
    "\n",
    "To get you started, the following snippet opens the dataset using the `csv` module and loops through, counting the number of lines in the file."
   ]
  },
  {
   "cell_type": "markdown",
   "metadata": {},
   "source": [
    "## Example code that reads the weather data and prints out a little information"
   ]
  },
  {
   "cell_type": "code",
   "execution_count": 3,
   "metadata": {},
   "outputs": [
    {
     "name": "stdout",
     "output_type": "stream",
     "text": [
      "header= ['', 'STATION', 'DATE', 'DAILYPrecip']\n",
      "first data line= ['28', 'WBAN:24233', '2008-01-01 23:59', '0.00']\n",
      "Found 3654 lines in the file (1 header line and 10 years of data, with 3 leap years).\n"
     ]
    }
   ],
   "source": [
    "# import the built-in csv module for reading comma (or tab, or space)-delimitted datafiles:\n",
    "import csv\n",
    "\n",
    "with open('data/seattle_rainfall.csv', 'r') as fh:\n",
    "    # Create a reader object that will let us loop through the file and collect each record.\n",
    "    # Treat this as a magic incantation for the moment.\n",
    "    csv_reader = csv.reader(fh, delimiter=',')\n",
    "    \n",
    "    # Load all records from the CSV file into a list.\n",
    "    records = list(csv_reader)\n",
    "\n",
    "line_counter = 0\n",
    "\n",
    "# Now use a for loop to loop through all the lines in the file.\n",
    "for row in records: \n",
    "    # row is a list of strings, one from each field\n",
    "    if line_counter == 0:\n",
    "        # print the header\n",
    "        print('header=',row)\n",
    "    elif line_counter == 1:\n",
    "        print('first data line=',row)\n",
    "    line_counter += 1\n",
    "    \n",
    "print('Found',line_counter,'lines in the file (1 header line and 10 years of data, with 3 leap years).')\n",
    "\n"
   ]
  },
  {
   "cell_type": "markdown",
   "metadata": {},
   "source": [
    "# Enter your code below\n",
    "\n",
    "Use markdown headers, as shown below, to indicate which of the 6 questions your code is answering."
   ]
  },
  {
   "cell_type": "markdown",
   "metadata": {},
   "source": [
    "## Hints\n",
    "\n",
    "* You will need to parse the information in the 'DATE' column to extract the year and month. For this, the `string.split` function might come in handy (e.g. `date.split('-')`), or you could use slicing (`date[0:4]`, etc)\n",
    "* January 1, 2008 was a Tuesday.\n",
    "* To compute the median (and max and min), you may want to use the `list.sort` method, which will sort a list of numerical values in increasing order.\n",
    "* To compute total values for a given year/month/day, consider using a `dictionary` indexed by the year/month/day and containing the accumulated value or a list of all the values. Note that to find the mean precipitation you need to know both the sum of all the precipitation values and also the number of such values.\n",
    "* You could initialize your dictionaries at the start, or you could check to see whether a given key is already present, and initialize on the fly if it's not already in the dictionary. See the `letter_counts` dictionary example up above.\n",
    "* To build a dictionary of lists, you would first initialize with empty lists (`D[key] = []`) and then use `append` to add each new value (`D[key].append( new_value )`).\n",
    "* If you are feeling stuck, feel free to contact me (pbradley@fredhutch.org) or John (jlhudd@uw.edu).\n"
   ]
  },
  {
   "cell_type": "markdown",
   "metadata": {},
   "source": [
    "## Question 1"
   ]
  },
  {
   "cell_type": "code",
   "execution_count": null,
   "metadata": {},
   "outputs": [],
   "source": [
    "# start putting your analysis code here\n",
    "#\n",
    "\n",
    "\n",
    "\n"
   ]
  }
 ],
 "metadata": {
  "kernelspec": {
   "display_name": "py36",
   "language": "python",
   "name": "py36"
  },
  "language_info": {
   "codemirror_mode": {
    "name": "ipython",
    "version": 3
   },
   "file_extension": ".py",
   "mimetype": "text/x-python",
   "name": "python",
   "nbconvert_exporter": "python",
   "pygments_lexer": "ipython3",
   "version": "3.6.6"
  }
 },
 "nbformat": 4,
 "nbformat_minor": 2
}
